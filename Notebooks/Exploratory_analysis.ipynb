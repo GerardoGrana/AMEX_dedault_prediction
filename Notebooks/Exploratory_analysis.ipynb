{
 "cells": [
  {
   "cell_type": "markdown",
   "metadata": {},
   "source": [
    "# Supervised Learning with AMEX Data\n",
    "## American Express - Default Prediction\n",
    "\n",
    "* This notebook consist in an exploratory analysis from Amex data."
   ]
  },
  {
   "cell_type": "code",
   "execution_count": null,
   "metadata": {},
   "outputs": [],
   "source": []
  }
 ],
 "metadata": {
  "language_info": {
   "name": "python"
  },
  "orig_nbformat": 4
 },
 "nbformat": 4,
 "nbformat_minor": 2
}
