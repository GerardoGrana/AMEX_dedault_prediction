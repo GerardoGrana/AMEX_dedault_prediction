{
 "cells": [
  {
   "cell_type": "code",
   "execution_count": 1,
   "metadata": {},
   "outputs": [],
   "source": [
    "import numpy as np\n",
    "import pandas as pd\n",
    "\n",
    "from catboost import CatBoostClassifier\n",
    "\n",
    "from sklearn.model_selection import train_test_split\n",
    "from sklearn.preprocessing import OrdinalEncoder\n",
    "\n",
    "import gc"
   ]
  },
  {
   "cell_type": "code",
   "execution_count": 2,
   "metadata": {},
   "outputs": [
    {
     "name": "stdout",
     "output_type": "stream",
     "text": [
      "CPU times: user 16.5 s, sys: 16.2 s, total: 32.6 s\n",
      "Wall time: 41.4 s\n"
     ]
    },
    {
     "data": {
      "text/html": [
       "<div>\n",
       "<style scoped>\n",
       "    .dataframe tbody tr th:only-of-type {\n",
       "        vertical-align: middle;\n",
       "    }\n",
       "\n",
       "    .dataframe tbody tr th {\n",
       "        vertical-align: top;\n",
       "    }\n",
       "\n",
       "    .dataframe thead th {\n",
       "        text-align: right;\n",
       "    }\n",
       "</style>\n",
       "<table border=\"1\" class=\"dataframe\">\n",
       "  <thead>\n",
       "    <tr style=\"text-align: right;\">\n",
       "      <th></th>\n",
       "      <th>customer_ID</th>\n",
       "      <th>S_2</th>\n",
       "      <th>P_2</th>\n",
       "      <th>D_39</th>\n",
       "      <th>B_1</th>\n",
       "      <th>B_2</th>\n",
       "      <th>R_1</th>\n",
       "      <th>S_3</th>\n",
       "      <th>D_41</th>\n",
       "      <th>B_3</th>\n",
       "      <th>...</th>\n",
       "      <th>D_137</th>\n",
       "      <th>D_138</th>\n",
       "      <th>D_139</th>\n",
       "      <th>D_140</th>\n",
       "      <th>D_141</th>\n",
       "      <th>D_142</th>\n",
       "      <th>D_143</th>\n",
       "      <th>D_144</th>\n",
       "      <th>D_145</th>\n",
       "      <th>target</th>\n",
       "    </tr>\n",
       "  </thead>\n",
       "  <tbody>\n",
       "    <tr>\n",
       "      <th>0</th>\n",
       "      <td>0000099d6bd597052cdcda90ffabf56573fe9d7c79be5f...</td>\n",
       "      <td>2017-03-09</td>\n",
       "      <td>0.938477</td>\n",
       "      <td>0.001734</td>\n",
       "      <td>0.008728</td>\n",
       "      <td>1.006836</td>\n",
       "      <td>0.009224</td>\n",
       "      <td>0.124023</td>\n",
       "      <td>0.008774</td>\n",
       "      <td>0.004707</td>\n",
       "      <td>...</td>\n",
       "      <td>NaN</td>\n",
       "      <td>NaN</td>\n",
       "      <td>0.002426</td>\n",
       "      <td>0.003706</td>\n",
       "      <td>0.003819</td>\n",
       "      <td>NaN</td>\n",
       "      <td>0.000569</td>\n",
       "      <td>0.000610</td>\n",
       "      <td>0.002674</td>\n",
       "      <td>0</td>\n",
       "    </tr>\n",
       "    <tr>\n",
       "      <th>1</th>\n",
       "      <td>0000099d6bd597052cdcda90ffabf56573fe9d7c79be5f...</td>\n",
       "      <td>2017-04-07</td>\n",
       "      <td>0.936523</td>\n",
       "      <td>0.005775</td>\n",
       "      <td>0.004925</td>\n",
       "      <td>1.000977</td>\n",
       "      <td>0.006153</td>\n",
       "      <td>0.126709</td>\n",
       "      <td>0.000798</td>\n",
       "      <td>0.002714</td>\n",
       "      <td>...</td>\n",
       "      <td>NaN</td>\n",
       "      <td>NaN</td>\n",
       "      <td>0.003956</td>\n",
       "      <td>0.003166</td>\n",
       "      <td>0.005032</td>\n",
       "      <td>NaN</td>\n",
       "      <td>0.009575</td>\n",
       "      <td>0.005493</td>\n",
       "      <td>0.009216</td>\n",
       "      <td>0</td>\n",
       "    </tr>\n",
       "  </tbody>\n",
       "</table>\n",
       "<p>2 rows × 191 columns</p>\n",
       "</div>"
      ],
      "text/plain": [
       "                                         customer_ID        S_2       P_2  \\\n",
       "0  0000099d6bd597052cdcda90ffabf56573fe9d7c79be5f... 2017-03-09  0.938477   \n",
       "1  0000099d6bd597052cdcda90ffabf56573fe9d7c79be5f... 2017-04-07  0.936523   \n",
       "\n",
       "       D_39       B_1       B_2       R_1       S_3      D_41       B_3  ...  \\\n",
       "0  0.001734  0.008728  1.006836  0.009224  0.124023  0.008774  0.004707  ...   \n",
       "1  0.005775  0.004925  1.000977  0.006153  0.126709  0.000798  0.002714  ...   \n",
       "\n",
       "   D_137  D_138     D_139     D_140     D_141  D_142     D_143     D_144  \\\n",
       "0    NaN    NaN  0.002426  0.003706  0.003819    NaN  0.000569  0.000610   \n",
       "1    NaN    NaN  0.003956  0.003166  0.005032    NaN  0.009575  0.005493   \n",
       "\n",
       "      D_145  target  \n",
       "0  0.002674       0  \n",
       "1  0.009216       0  \n",
       "\n",
       "[2 rows x 191 columns]"
      ]
     },
     "execution_count": 2,
     "metadata": {},
     "output_type": "execute_result"
    }
   ],
   "source": [
    "%%time\n",
    "train = pd.read_feather('/Users/usuario/workspace/AMEX_data/train_data.ftr')\n",
    "train.head(2)"
   ]
  },
  {
   "cell_type": "code",
   "execution_count": 3,
   "metadata": {},
   "outputs": [
    {
     "data": {
      "text/plain": [
       "(5531451, 191)"
      ]
     },
     "execution_count": 3,
     "metadata": {},
     "output_type": "execute_result"
    }
   ],
   "source": [
    "train.shape"
   ]
  },
  {
   "cell_type": "code",
   "execution_count": 4,
   "metadata": {},
   "outputs": [
    {
     "name": "stdout",
     "output_type": "stream",
     "text": [
      "CPU times: user 6.91 s, sys: 8.97 s, total: 15.9 s\n",
      "Wall time: 42.1 s\n"
     ]
    }
   ],
   "source": [
    "%%time\n",
    "# Conservamos el último registro de cada usuario\n",
    "df =  (train\n",
    "            .groupby('customer_ID')\n",
    "            .tail(1)\n",
    "            .set_index('customer_ID', drop=True)\n",
    "            .sort_index()\n",
    "            .drop(['S_2'], axis='columns'))"
   ]
  },
  {
   "cell_type": "code",
   "execution_count": 5,
   "metadata": {},
   "outputs": [
    {
     "data": {
      "text/plain": [
       "(458913, 189)"
      ]
     },
     "execution_count": 5,
     "metadata": {},
     "output_type": "execute_result"
    }
   ],
   "source": [
    "df.shape"
   ]
  },
  {
   "cell_type": "code",
   "execution_count": 6,
   "metadata": {},
   "outputs": [],
   "source": [
    "all_cols = df.columns.to_list()\n",
    "\n",
    "cat_cols = ['B_30', 'B_38', 'D_114', 'D_116', 'D_117', 'D_120', 'D_126', 'D_63', 'D_64', 'D_66', 'D_68']\n",
    "\n",
    "num_cols = [col for col in all_cols if col not in cat_cols + [\"target\"]]"
   ]
  },
  {
   "cell_type": "code",
   "execution_count": 7,
   "metadata": {},
   "outputs": [
    {
     "data": {
      "text/plain": [
       "((458913, 188), (458913,))"
      ]
     },
     "execution_count": 7,
     "metadata": {},
     "output_type": "execute_result"
    }
   ],
   "source": [
    "X = df[cat_cols + num_cols]\n",
    "y = df['target']\n",
    "\n",
    "X.shape, y.shape"
   ]
  },
  {
   "cell_type": "markdown",
   "metadata": {},
   "source": [
    "# Construimos las linea de base"
   ]
  },
  {
   "cell_type": "markdown",
   "metadata": {},
   "source": [
    "## Partimos el conjunto de datos en train y test"
   ]
  },
  {
   "cell_type": "code",
   "execution_count": 8,
   "metadata": {},
   "outputs": [],
   "source": [
    "X_train, X_test, y_train, y_test = train_test_split(X, y, test_size=0.25, stratify=y)"
   ]
  },
  {
   "cell_type": "code",
   "execution_count": 9,
   "metadata": {},
   "outputs": [
    {
     "name": "stdout",
     "output_type": "stream",
     "text": [
      "El conjunto de features de entrenamiento tiene la forma: (344184, 188)\n",
      "El target de testeo tiene la forma: (114729,)\n",
      "\n",
      "El conjunto de features de testeo tiene la forma: (114729, 188)\n",
      "El target de entrenamiento tiene la forma: (344184,)\n"
     ]
    }
   ],
   "source": [
    "print(f'El conjunto de features de entrenamiento tiene la forma: {X_train.shape}')\n",
    "print(f'El target de testeo tiene la forma: {y_test.shape}\\n')\n",
    "print(f'El conjunto de features de testeo tiene la forma: {X_test.shape}')\n",
    "print(f'El target de entrenamiento tiene la forma: {y_train.shape}')"
   ]
  },
  {
   "cell_type": "markdown",
   "metadata": {},
   "source": [
    "## Construimos el pipeline completo en tres pasos.\n",
    "\n",
    "* Paso 1: definimos los pasos de preprocesamiento\n",
    "De manera similar a el pipeline agrupa los pasos de preprocesamiento y modelado, usamos la clase ColumnTransformer para agrupar diferentes pasos de preprocesamiento. "
   ]
  },
  {
   "cell_type": "code",
   "execution_count": 10,
   "metadata": {},
   "outputs": [],
   "source": [
    "from sklearn.compose import ColumnTransformer\n",
    "from sklearn.pipeline import Pipeline\n",
    "from sklearn.model_selection import RandomizedSearchCV\n",
    "from sklearn.impute import SimpleImputer\n",
    "from sklearn.preprocessing import OneHotEncoder\n",
    "\n",
    "#El código a continuación imputa valores faltantes en datos numéricos, e\n",
    "#imputa valores faltantes y aplica una codificación one-hot a los datos categóricos.\n",
    "\n",
    "# Preprocesando la data numérica\n",
    "numerical_transformer = SimpleImputer(strategy='constant')\n",
    "\n",
    "# Preprocesando la data categórica\n",
    "categorical_transformer = Pipeline(steps=[\n",
    "    ('imputer', SimpleImputer(strategy='most_frequent')),\n",
    "    ('onehot', OneHotEncoder(handle_unknown='ignore', drop='first'))\n",
    "])\n",
    "\n",
    "# Bundle preprocessing for numerical and categorical data\n",
    "preprocessor = ColumnTransformer(\n",
    "    transformers=[\n",
    "        ('num', numerical_transformer, num_cols),\n",
    "        ('cat', categorical_transformer, cat_cols)\n",
    "    ])"
   ]
  },
  {
   "cell_type": "markdown",
   "metadata": {},
   "source": [
    "* Paso 2: Definimos el modelo. En este caso para la linea de base utilizaremos una regresión logística"
   ]
  },
  {
   "cell_type": "code",
   "execution_count": 11,
   "metadata": {},
   "outputs": [],
   "source": [
    "from sklearn.linear_model import LogisticRegression\n",
    "semilla = 1234\n",
    "model = LogisticRegression(random_state=semilla, max_iter=200, solver=\"saga\")"
   ]
  },
  {
   "cell_type": "markdown",
   "metadata": {},
   "source": [
    "* Paso 3: crear y evaluar el pipeline\n",
    "Finalmente, usamos la clase Pipeline para definir un pipeline que agrupa los pasos de preprocesamiento y modelado. Hay algunas cosas importantes a tener en cuenta:\n",
    "\n",
    "Con el pipeline, preprocesamos los datos de entrenamiento y ajustamos el modelo en una sola línea de código. (Por el contrario, sin un pipeline, tendríamos que hacer la imputación, la codificación one-hot y el entrenamiento del modelo en pasos separados.\n",
    "\n",
    "Con el pipeline proporcionamos las funciones no procesadas en X_test al comando predict(), y el pipeline preprocesa automáticamente las funciones antes de generar predicciones. (Sin embargo, sin el pipeline, debemos recordar preprocesar los datos de validación antes de hacer predicciones)."
   ]
  },
  {
   "cell_type": "code",
   "execution_count": 12,
   "metadata": {},
   "outputs": [
    {
     "name": "stderr",
     "output_type": "stream",
     "text": [
      "/opt/anaconda3/lib/python3.8/site-packages/sklearn/linear_model/_sag.py:350: ConvergenceWarning: The max_iter was reached which means the coef_ did not converge\n",
      "  warnings.warn(\n"
     ]
    }
   ],
   "source": [
    "from sklearn.metrics import mean_absolute_error\n",
    "\n",
    "# Paquete de preprocesamiento y código de modelado\n",
    "my_pipeline = Pipeline(steps=[('preprocessor', preprocessor),\n",
    "                              ('model', model)\n",
    "                             ])\n",
    "\n",
    "# Preprocesamiento de datos de entrenamiento, ajuste del modelo\n",
    "my_pipeline.fit(X_train, y_train)\n",
    "\n",
    "# Preprocesamiento de datos de validación, obtener predicciones\n",
    "preds = my_pipeline.predict(X_test)"
   ]
  },
  {
   "cell_type": "code",
   "execution_count": 13,
   "metadata": {},
   "outputs": [
    {
     "name": "stdout",
     "output_type": "stream",
     "text": [
      "[[80380  4642]\n",
      " [ 9623 20084]]\n",
      "El accuracy score para el modelo base es: 0.8756635201213294\n"
     ]
    }
   ],
   "source": [
    "from sklearn.metrics import confusion_matrix, accuracy_score\n",
    "cm = confusion_matrix(y_test,preds)\n",
    "print(cm)\n",
    "print(f'El accuracy score para el modelo base es: {accuracy_score(y_test, preds)}')"
   ]
  },
  {
   "cell_type": "code",
   "execution_count": 14,
   "metadata": {},
   "outputs": [
    {
     "data": {
      "text/plain": [
       "<matplotlib.axes._subplots.AxesSubplot at 0x1afdf7eb0>"
      ]
     },
     "execution_count": 14,
     "metadata": {},
     "output_type": "execute_result"
    },
    {
     "data": {
      "image/png": "[encoded data removed]",
      "text/plain": [
       "<Figure size 432x288 with 2 Axes>"
      ]
     },
     "metadata": {
      "needs_background": "light"
     },
     "output_type": "display_data"
    }
   ],
   "source": [
    "import seaborn as sns\n",
    "sns.heatmap(cm, annot=True)"
   ]
  },
  {
   "cell_type": "code",
   "execution_count": 15,
   "metadata": {},
   "outputs": [
    {
     "name": "stdout",
     "output_type": "stream",
     "text": [
      "              precision    recall  f1-score   support\n",
      "\n",
      "           0       0.89      0.95      0.92     85022\n",
      "           1       0.81      0.68      0.74     29707\n",
      "\n",
      "    accuracy                           0.88    114729\n",
      "   macro avg       0.85      0.81      0.83    114729\n",
      "weighted avg       0.87      0.88      0.87    114729\n",
      "\n"
     ]
    }
   ],
   "source": [
    "from sklearn.metrics import classification_report\n",
    "print(classification_report(y_test, preds))"
   ]
  },
  {
   "cell_type": "markdown",
   "metadata": {},
   "source": [
    "## Probamos otros modelos\n",
    "Probaremos una serie de modelos con sus parametros por defecto, sin tuning:\n",
    "\n",
    "* Decision tree: un árbol de decisión.\n",
    "\n",
    "* Extra trees: Un clasificador de árboles adicionales. Esta clase implementa un meta estimador que se ajusta a una serie de árboles de decisión aleatorios en varias submuestras del conjunto de datos, y utiliza el promedio para mejorar la precisión predictiva y controlar el ajuste excesivo.\n",
    "\n",
    "* Random Forest: Un Random Forest es un conjunto (ensemble) de árboles de decisión combinados con bagging. Es una combinación de árboles predictores tal que cada árbol depende de los valores de un vector aleatorio probado independientemente y con la misma distribución para cada uno de estos.\n",
    "\n",
    "* AdaBoost: consiste en crear varios predictores sencillos en secuencia, de tal manera que el segundo ajuste bien lo que el primero no ajustó, que el tercero ajuste un poco mejor lo que el segundo no pudo ajustar y así sucesivamente.\n",
    "\n",
    "* GradientBoosting: es una técnica de aprendizaje automático utilizado para el análisis de la regresión y para problemas de clasificación estadística, el cual produce un modelo predictivo en forma de un conjunto de modelos de predicción débiles, típicamente árboles de decisión. Construye el modelo de forma escalonada como lo hacen otros métodos de boosting, y los generaliza permitiendo la optimización arbitraria de una función de pérdida diferenciable.\n",
    "\n",
    "* XGBoost: es una implementación de código abierto popular y eficiente del algoritmo de gradiente de árboles reforzados. Es un algoritmo predictivo supervisado que utiliza el principio de boosting.\n",
    "\n",
    "* LightGBM: es un algoritmo de refuerzo (o también de potenciación) de gradientes (gradient boosting) basado en modelos de árboles de decisión. Es más rápido que XGBoost.\n",
    "\n",
    "* CatBoost: es un algoritmo de refuerzo (o también de potenciación) de gradientes (gradient boosting) basado en modelos de árboles de decisión. Tiene un especial tratamiento de las variables categóricas que lo hacen eficiente en su tratamiento.\n",
    "\n",
    "* NGBoost: otro algoritmo de boosting. Este predice una probabilidad.\n",
    "\n"
   ]
  },
  {
   "cell_type": "code",
   "execution_count": 16,
   "metadata": {},
   "outputs": [],
   "source": [
    "from sklearn.ensemble import RandomForestClassifier, ExtraTreesClassifier, AdaBoostClassifier, GradientBoostingClassifier\n",
    "from sklearn.tree import DecisionTreeClassifier\n",
    "from sklearn.datasets import fetch_openml\n",
    "import numpy as np\n",
    "from matplotlib import pyplot as plt\n",
    "from sklearn.metrics import f1_score, precision_score, recall_score"
   ]
  },
  {
   "cell_type": "code",
   "execution_count": 17,
   "metadata": {},
   "outputs": [],
   "source": [
    "clasificador_tree_ = DecisionTreeClassifier(random_state=semilla)\n",
    "clasificador_random_forest = RandomForestClassifier(n_estimators=100, random_state=semilla)\n",
    "clasificador_extra_trees = ExtraTreesClassifier(n_estimators=100, random_state=semilla)\n",
    "clasificador_adaboost = AdaBoostClassifier(random_state=semilla)\n",
    "clasificador_gradientboost = GradientBoostingClassifier(random_state=semilla)"
   ]
  },
  {
   "cell_type": "markdown",
   "metadata": {},
   "source": [
    "## Decision tree"
   ]
  },
  {
   "cell_type": "code",
   "execution_count": 26,
   "metadata": {},
   "outputs": [],
   "source": [
    "modelo = clasificador_tree_"
   ]
  },
  {
   "cell_type": "code",
   "execution_count": 27,
   "metadata": {},
   "outputs": [],
   "source": [
    "my_pipeline2 = Pipeline(steps=[('preprocessor', preprocessor),\n",
    "                              ('model', modelo)\n",
    "                             ])"
   ]
  },
  {
   "cell_type": "code",
   "execution_count": 28,
   "metadata": {},
   "outputs": [
    {
     "name": "stdout",
     "output_type": "stream",
     "text": [
      "El accuracy score para el modelo DecisionTreeClassifier(random_state=1234) es: 0.8452527259890699\n",
      "\n",
      "              precision    recall  f1-score   support\n",
      "\n",
      "           0       0.90      0.90      0.90     85022\n",
      "           1       0.70      0.70      0.70     29707\n",
      "\n",
      "    accuracy                           0.85    114729\n",
      "   macro avg       0.80      0.80      0.80    114729\n",
      "weighted avg       0.85      0.85      0.85    114729\n",
      "\n",
      "\n",
      "[[76135  8887]\n",
      " [ 8867 20840]]\n"
     ]
    },
    {
     "data": {
      "image/png": "[encoded data removed]",
      "text/plain": [
       "<Figure size 432x288 with 2 Axes>"
      ]
     },
     "metadata": {
      "needs_background": "light"
     },
     "output_type": "display_data"
    }
   ],
   "source": [
    "my_pipeline2.fit(X_train, y_train)\n",
    "predicciones = my_pipeline2.predict(X_test)\n",
    "cmx = confusion_matrix(y_test,predicciones)\n",
    "\n",
    "print(f'El accuracy score para el modelo {modelo} es: {accuracy_score(y_test, predicciones)}\\n')\n",
    "print(classification_report(y_test, predicciones)+'\\n')\n",
    "sns.heatmap(cmx, annot=True)\n",
    "print(cmx)"
   ]
  },
  {
   "cell_type": "markdown",
   "metadata": {},
   "source": [
    "## Extra trees\n"
   ]
  },
  {
   "cell_type": "code",
   "execution_count": 29,
   "metadata": {},
   "outputs": [],
   "source": [
    "modelo = clasificador_extra_trees"
   ]
  },
  {
   "cell_type": "code",
   "execution_count": 30,
   "metadata": {},
   "outputs": [],
   "source": [
    "my_pipeline2 = Pipeline(steps=[('preprocessor', preprocessor),\n",
    "                              ('model', modelo)\n",
    "                             ])"
   ]
  },
  {
   "cell_type": "code",
   "execution_count": 31,
   "metadata": {},
   "outputs": [
    {
     "name": "stdout",
     "output_type": "stream",
     "text": [
      "El accuracy score para el modelo ExtraTreesClassifier(random_state=1234) es: 0.8923550279353956\n",
      "\n",
      "              precision    recall  f1-score   support\n",
      "\n",
      "           0       0.92      0.93      0.93     85022\n",
      "           1       0.80      0.78      0.79     29707\n",
      "\n",
      "    accuracy                           0.89    114729\n",
      "   macro avg       0.86      0.85      0.86    114729\n",
      "weighted avg       0.89      0.89      0.89    114729\n",
      "\n",
      "\n",
      "[[79336  5686]\n",
      " [ 6664 23043]]\n",
      "El accuracy score para el modelo ExtraTreesClassifier(random_state=1234) es: 0.8923550279353956\n",
      "\n",
      "              precision    recall  f1-score   support\n",
      "\n",
      "           0       0.92      0.93      0.93     85022\n",
      "           1       0.80      0.78      0.79     29707\n",
      "\n",
      "    accuracy                           0.89    114729\n",
      "   macro avg       0.86      0.85      0.86    114729\n",
      "weighted avg       0.89      0.89      0.89    114729\n",
      "\n",
      "\n",
      "[[79336  5686]\n",
      " [ 6664 23043]]\n",
      "El accuracy score para el modelo ExtraTreesClassifier(random_state=1234) es: 0.8923550279353956\n",
      "\n",
      "              precision    recall  f1-score   support\n",
      "\n",
      "           0       0.92      0.93      0.93     85022\n",
      "           1       0.80      0.78      0.79     29707\n",
      "\n",
      "    accuracy                           0.89    114729\n",
      "   macro avg       0.86      0.85      0.86    114729\n",
      "weighted avg       0.89      0.89      0.89    114729\n",
      "\n",
      "\n",
      "[[79336  5686]\n",
      " [ 6664 23043]]\n",
      "El accuracy score para el modelo ExtraTreesClassifier(random_state=1234) es: 0.8923550279353956\n",
      "\n",
      "              precision    recall  f1-score   support\n",
      "\n",
      "           0       0.92      0.93      0.93     85022\n",
      "           1       0.80      0.78      0.79     29707\n",
      "\n",
      "    accuracy                           0.89    114729\n",
      "   macro avg       0.86      0.85      0.86    114729\n",
      "weighted avg       0.89      0.89      0.89    114729\n",
      "\n",
      "\n",
      "[[79336  5686]\n",
      " [ 6664 23043]]\n",
      "El accuracy score para el modelo ExtraTreesClassifier(random_state=1234) es: 0.8923550279353956\n",
      "\n",
      "              precision    recall  f1-score   support\n",
      "\n",
      "           0       0.92      0.93      0.93     85022\n",
      "           1       0.80      0.78      0.79     29707\n",
      "\n",
      "    accuracy                           0.89    114729\n",
      "   macro avg       0.86      0.85      0.86    114729\n",
      "weighted avg       0.89      0.89      0.89    114729\n",
      "\n",
      "\n",
      "[[79336  5686]\n",
      " [ 6664 23043]]\n",
      "El accuracy score para el modelo ExtraTreesClassifier(random_state=1234) es: 0.8923550279353956\n",
      "\n",
      "              precision    recall  f1-score   support\n",
      "\n",
      "           0       0.92      0.93      0.93     85022\n",
      "           1       0.80      0.78      0.79     29707\n",
      "\n",
      "    accuracy                           0.89    114729\n",
      "   macro avg       0.86      0.85      0.86    114729\n",
      "weighted avg       0.89      0.89      0.89    114729\n",
      "\n",
      "\n",
      "[[79336  5686]\n",
      " [ 6664 23043]]\n",
      "El accuracy score para el modelo ExtraTreesClassifier(random_state=1234) es: 0.8923550279353956\n",
      "\n",
      "              precision    recall  f1-score   support\n",
      "\n",
      "           0       0.92      0.93      0.93     85022\n",
      "           1       0.80      0.78      0.79     29707\n",
      "\n",
      "    accuracy                           0.89    114729\n",
      "   macro avg       0.86      0.85      0.86    114729\n",
      "weighted avg       0.89      0.89      0.89    114729\n",
      "\n",
      "\n",
      "[[79336  5686]\n",
      " [ 6664 23043]]\n",
      "El accuracy score para el modelo ExtraTreesClassifier(random_state=1234) es: 0.8923550279353956\n",
      "\n",
      "              precision    recall  f1-score   support\n",
      "\n",
      "           0       0.92      0.93      0.93     85022\n",
      "           1       0.80      0.78      0.79     29707\n",
      "\n",
      "    accuracy                           0.89    114729\n",
      "   macro avg       0.86      0.85      0.86    114729\n",
      "weighted avg       0.89      0.89      0.89    114729\n",
      "\n",
      "\n",
      "[[79336  5686]\n",
      " [ 6664 23043]]\n",
      "9min 40s ± 18.4 s per loop (mean ± std. dev. of 7 runs, 1 loop each)\n"
     ]
    },
    {
     "data": {
      "image/png": "[encoded data removed]",
      "text/plain": [
       "<Figure size 432x288 with 9 Axes>"
      ]
     },
     "metadata": {
      "needs_background": "light"
     },
     "output_type": "display_data"
    }
   ],
   "source": [
    "%%timeit\n",
    "my_pipeline2.fit(X_train, y_train)\n",
    "predicciones = my_pipeline2.predict(X_test)\n",
    "cmx = confusion_matrix(y_test,predicciones)\n",
    "\n",
    "print(f'El accuracy score para el modelo {modelo} es: {accuracy_score(y_test, predicciones)}\\n')\n",
    "print(classification_report(y_test, predicciones)+'\\n')\n",
    "sns.heatmap(cmx, annot=True)\n",
    "print(cmx)"
   ]
  },
  {
   "cell_type": "markdown",
   "metadata": {},
   "source": [
    "## Random Forest"
   ]
  },
  {
   "cell_type": "code",
   "execution_count": 32,
   "metadata": {},
   "outputs": [],
   "source": [
    "modelo = clasificador_random_forest"
   ]
  },
  {
   "cell_type": "code",
   "execution_count": 33,
   "metadata": {},
   "outputs": [],
   "source": [
    "my_pipeline2 = Pipeline(steps=[('preprocessor', preprocessor),\n",
    "                              ('model', modelo)\n",
    "                             ])"
   ]
  },
  {
   "cell_type": "code",
   "execution_count": 34,
   "metadata": {},
   "outputs": [
    {
     "name": "stdout",
     "output_type": "stream",
     "text": [
      "El accuracy score para el modelo RandomForestClassifier(random_state=1234) es: 0.8949437369801881\n",
      "\n",
      "              precision    recall  f1-score   support\n",
      "\n",
      "           0       0.93      0.93      0.93     85022\n",
      "           1       0.80      0.79      0.80     29707\n",
      "\n",
      "    accuracy                           0.89    114729\n",
      "   macro avg       0.86      0.86      0.86    114729\n",
      "weighted avg       0.89      0.89      0.89    114729\n",
      "\n",
      "\n",
      "[[79245  5777]\n",
      " [ 6276 23431]]\n"
     ]
    }
   ],
   "source": [
    "%%timeit\n",
    "my_pipeline2.fit(X_train, y_train)\n",
    "predicciones = my_pipeline2.predict(X_test)\n",
    "cmx = confusion_matrix(y_test,predicciones)\n",
    "\n",
    "print(f'El accuracy score para el modelo {modelo} es: {accuracy_score(y_test, predicciones)}\\n')\n",
    "print(classification_report(y_test, predicciones)+'\\n')\n",
    "sns.heatmap(cmx, annot=True)\n",
    "print(cmx)"
   ]
  }
 ],
 "metadata": {
  "kernelspec": {
   "display_name": "Python 3.8.3 ('base')",
   "language": "python",
   "name": "python3"
  },
  "language_info": {
   "codemirror_mode": {
    "name": "ipython",
    "version": 3
   },
   "file_extension": ".py",
   "mimetype": "text/x-python",
   "name": "python",
   "nbconvert_exporter": "python",
   "pygments_lexer": "ipython3",
   "version": "3.8.3"
  },
  "orig_nbformat": 4,
  "vscode": {
   "interpreter": {
    "hash": "40d3a090f54c6569ab1632332b64b2c03c39dcf918b08424e98f38b5ae0af88f"
   }
  }
 },
 "nbformat": 4,
 "nbformat_minor": 2
}
